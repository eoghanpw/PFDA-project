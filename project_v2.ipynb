{
 "cells": [
  {
   "cell_type": "code",
   "execution_count": 79,
   "metadata": {},
   "outputs": [],
   "source": [
    "import pandas as pd\n",
    "import numpy as np\n",
    "import matplotlib.pyplot as plt\n",
    "import matplotlib.dates as mdates\n",
    "from matplotlib.ticker import AutoMinorLocator\n",
    "import seaborn as sns\n",
    "import csv\n",
    "import re"
   ]
  },
  {
   "cell_type": "code",
   "execution_count": 80,
   "metadata": {},
   "outputs": [],
   "source": [
    "cork_airport_csv = \"./data/cork_airport_weather_hourly.csv\"\n",
    "\n",
    "def skiprows():\n",
    "    \n",
    "    pattern = \"^date(?!:)\"\n",
    "    \n",
    "    with open(cork_airport_csv) as f:\n",
    "        reader = csv.reader(f)\n",
    "        for row_number, row in enumerate(reader, start=0):\n",
    "           if any(re.search(pattern, string) for string in row):\n",
    "              break\n",
    "    return row_number\n",
    "\n",
    "cork_airport_df = pd.read_csv(cork_airport_csv, skiprows=skiprows(), index_col=\"date\", usecols=[\"date\", \"rain\", \"temp\", \"wdsp\"], low_memory=False)"
   ]
  },
  {
   "cell_type": "code",
   "execution_count": 81,
   "metadata": {},
   "outputs": [
    {
     "name": "stdout",
     "output_type": "stream",
     "text": [
      "Imported mly1075.csv as mly1075\n",
      "Imported mly1175.csv as mly1175\n",
      "Imported mly1275.csv as mly1275\n",
      "Imported mly1375.csv as mly1375\n",
      "Imported mly1475.csv as mly1475\n",
      "Imported mly1575.csv as mly1575\n",
      "Imported mly175.csv as mly175\n",
      "Imported mly1775.csv as mly1775\n",
      "Imported mly1875.csv as mly1875\n",
      "Imported mly1975.csv as mly1975\n",
      "Imported mly2075.csv as mly2075\n",
      "Imported mly2175.csv as mly2175\n",
      "Imported mly2275.csv as mly2275\n",
      "Imported mly2375.csv as mly2375\n",
      "Imported mly275.csv as mly275\n",
      "Imported mly3723.csv as mly3723\n",
      "Imported mly375.csv as mly375\n",
      "Imported mly3904.csv as mly3904\n",
      "Imported mly4935.csv as mly4935\n",
      "Imported mly518.csv as mly518\n",
      "Imported mly532.csv as mly532\n",
      "Imported mly575.csv as mly575\n",
      "Imported mly675.csv as mly675\n",
      "Imported mly775.csv as mly775\n",
      "Imported mly875.csv as mly875\n"
     ]
    }
   ],
   "source": [
    "import pandas as pd\n",
    "import os\n",
    "\n",
    "# Define the directory containing the CSV files\n",
    "csv_directory = \"./data/monthly_weather\"\n",
    "\n",
    "# Initialize a dictionary to store DataFrames\n",
    "dataframes = {}\n",
    "\n",
    "pattern = \"^year(?!:)\"\n",
    "\n",
    "# Loop through each file in the directory\n",
    "for file_name in os.listdir(csv_directory):\n",
    "    if file_name.endswith(\".csv\"):  # Check if the file is a CSV\n",
    "        file_path = os.path.join(csv_directory, file_name)\n",
    "        \n",
    "        with open(file_path) as f:\n",
    "            reader = csv.reader(f)\n",
    "            for row_number, row in enumerate(reader, start=0):\n",
    "                if any(re.search(pattern, string) for string in row):\n",
    "                    break\n",
    "\n",
    "        # Read the CSV into a DataFrame\n",
    "        df_name = file_name.split('.')[0]  # Use the filename without extension as the key\n",
    "        dataframes[df_name] = pd.read_csv(file_path, skiprows=row_number)\n",
    "        \n",
    "        print(f\"Imported {file_name} as {df_name}\")"
   ]
  }
 ],
 "metadata": {
  "kernelspec": {
   "display_name": "base",
   "language": "python",
   "name": "python3"
  },
  "language_info": {
   "codemirror_mode": {
    "name": "ipython",
    "version": 3
   },
   "file_extension": ".py",
   "mimetype": "text/x-python",
   "name": "python",
   "nbconvert_exporter": "python",
   "pygments_lexer": "ipython3",
   "version": "3.12.4"
  }
 },
 "nbformat": 4,
 "nbformat_minor": 2
}
